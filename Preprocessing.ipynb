{
 "cells": [
  {
   "cell_type": "markdown",
   "id": "4d327d52-011c-4824-a290-57a156a967ef",
   "metadata": {},
   "source": [
    "## Combining txt files into one csv file per session"
   ]
  },
  {
   "cell_type": "code",
   "execution_count": 1,
   "id": "d798df68-1e4a-44db-af52-b57fe638e043",
   "metadata": {},
   "outputs": [
    {
     "ename": "FileNotFoundError",
     "evalue": "[WinError 3] Das System kann den angegebenen Pfad nicht finden: 'C:/Users/kirahoos/Library/Mobile Documents/com~apple~CloudDocs/Documents/Master Thesis/4 Data/Session 2'",
     "output_type": "error",
     "traceback": [
      "\u001b[1;31m---------------------------------------------------------------------------\u001b[0m",
      "\u001b[1;31mFileNotFoundError\u001b[0m                         Traceback (most recent call last)",
      "Cell \u001b[1;32mIn[1], line 20\u001b[0m\n\u001b[0;32m     16\u001b[0m directory \u001b[38;5;241m=\u001b[39m \u001b[38;5;124mr\u001b[39m\u001b[38;5;124m'\u001b[39m\u001b[38;5;124mC:/Users/kirahoos/Library/Mobile Documents/com~apple~CloudDocs/Documents/Master Thesis/4 Data/Session 2\u001b[39m\u001b[38;5;124m'\u001b[39m   \u001b[38;5;66;03m# Do this for each session (1, 2, 3)\u001b[39;00m\n\u001b[0;32m     18\u001b[0m data_frames \u001b[38;5;241m=\u001b[39m []\n\u001b[1;32m---> 20\u001b[0m \u001b[38;5;28;01mfor\u001b[39;00m filename \u001b[38;5;129;01min\u001b[39;00m os\u001b[38;5;241m.\u001b[39mlistdir(directory):\n\u001b[0;32m     21\u001b[0m     \u001b[38;5;28;01mif\u001b[39;00m filename\u001b[38;5;241m.\u001b[39mendswith(\u001b[38;5;124m\"\u001b[39m\u001b[38;5;124m.txt\u001b[39m\u001b[38;5;124m\"\u001b[39m) \u001b[38;5;129;01mor\u001b[39;00m filename\u001b[38;5;241m.\u001b[39mendswith(\u001b[38;5;124m\"\u001b[39m\u001b[38;5;124m.csv\u001b[39m\u001b[38;5;124m\"\u001b[39m):\n\u001b[0;32m     22\u001b[0m         file_path \u001b[38;5;241m=\u001b[39m os\u001b[38;5;241m.\u001b[39mpath\u001b[38;5;241m.\u001b[39mjoin(directory, filename)\n",
      "\u001b[1;31mFileNotFoundError\u001b[0m: [WinError 3] Das System kann den angegebenen Pfad nicht finden: 'C:/Users/kirahoos/Library/Mobile Documents/com~apple~CloudDocs/Documents/Master Thesis/4 Data/Session 2'"
     ]
    }
   ],
   "source": [
    "import os\n",
    "import pandas as pd\n",
    "\n",
    "def detect_delimiter(file_path):\n",
    "    with open(file_path, 'r') as file:\n",
    "        first_line = file.readline()\n",
    "        if ',' in first_line:\n",
    "            return ','\n",
    "        elif '\\t' in first_line:\n",
    "            return '\\t'\n",
    "        elif ' ' in first_line:\n",
    "            return ' '\n",
    "        else:\n",
    "            raise ValueError(\"Unknown delimiter\")\n",
    "\n",
    "directory = r'C:\\Users\\britt\\Desktop\\Data Thesis\\Raw Data_Behavior\\Raw Data_Behavior\\Session 2'   # Do this for each session (1, 2, 3)\n",
    "\n",
    "data_frames = []\n",
    "\n",
    "for filename in os.listdir(directory):\n",
    "    if filename.endswith(\".txt\") or filename.endswith(\".csv\"):\n",
    "        file_path = os.path.join(directory, filename)\n",
    "        delimiter = detect_delimiter(file_path)\n",
    "        df = pd.read_csv(file_path, delimiter=delimiter)\n",
    "        data_frames.append(df)\n",
    "\n",
    "combined_df = pd.concat(data_frames, ignore_index=True)\n",
    "\n",
    "combined_df.to_csv(r'C:\\Users\\britt\\Desktop\\Data Thesis\\data_session2.csv', index=False)  # Change name for each session (1, 2, 3)\n",
    "\n",
    "# Combined files manually in excel"
   ]
  },
  {
   "cell_type": "markdown",
   "id": "66e0559b-54e4-40b4-a9f5-2cd909149ac6",
   "metadata": {},
   "source": [
    "## Importing libraries"
   ]
  },
  {
   "cell_type": "code",
   "execution_count": 2,
   "id": "c555d98e-041a-48bb-bc08-f787c1f1c943",
   "metadata": {},
   "outputs": [],
   "source": [
    "import pandas as pd\n",
    "import numpy as np\n",
    "import seaborn as sns\n",
    "import matplotlib.pyplot as plt\n",
    "from scipy.stats import norm\n",
    "from scipy import stats\n",
    "import warnings "
   ]
  },
  {
   "cell_type": "markdown",
   "id": "7aa2544e-cee5-4560-9272-63c864e5ab42",
   "metadata": {},
   "source": [
    "## Load DataFrame"
   ]
  },
  {
   "cell_type": "code",
   "execution_count": 13,
   "id": "be0ea63a-826a-4615-8620-3d799cda4ea2",
   "metadata": {},
   "outputs": [],
   "source": [
    "original_df = pd.read_csv('Data_Preprocessed.csv', sep=\";\")"
   ]
  },
  {
   "cell_type": "code",
   "execution_count": 14,
   "id": "ce0c3b13-41f2-48b7-831c-195d0203862e",
   "metadata": {},
   "outputs": [],
   "source": [
    "df = original_df.copy()"
   ]
  },
  {
   "cell_type": "markdown",
   "id": "ea72a38b-03db-4bc6-ae2f-6134ce8e61ad",
   "metadata": {},
   "source": [
    "## Checking for missing values (NaN-values)"
   ]
  },
  {
   "cell_type": "code",
   "execution_count": 15,
   "id": "0f78e93d-097a-4570-8b94-12d354704a3e",
   "metadata": {},
   "outputs": [
    {
     "name": "stdout",
     "output_type": "stream",
     "text": [
      "<class 'pandas.core.frame.DataFrame'>\n",
      "RangeIndex: 19440 entries, 0 to 19439\n",
      "Data columns (total 14 columns):\n",
      " #   Column       Non-Null Count  Dtype \n",
      "---  ------       --------------  ----- \n",
      " 0   session      19440 non-null  int64 \n",
      " 1   participant  19440 non-null  int64 \n",
      " 2   stim         19440 non-null  object\n",
      " 3   trial        19440 non-null  int64 \n",
      " 4   number       19440 non-null  int64 \n",
      " 5   target       19440 non-null  bool  \n",
      " 6   press        19440 non-null  bool  \n",
      " 7   corr         19440 non-null  int64 \n",
      " 8   rt           19440 non-null  object\n",
      " 9   t_task       19440 non-null  object\n",
      " 10  t_num        19440 non-null  object\n",
      " 11  t_fix        19440 non-null  object\n",
      " 12  t_resp       19440 non-null  object\n",
      " 13  age          19440 non-null  int64 \n",
      "dtypes: bool(2), int64(6), object(6)\n",
      "memory usage: 1.8+ MB\n"
     ]
    }
   ],
   "source": [
    "df.info()"
   ]
  },
  {
   "cell_type": "markdown",
   "id": "71014352-282d-4d82-8e99-d50dd55b9eb2",
   "metadata": {},
   "source": [
    "## Defining dprime"
   ]
  },
  {
   "cell_type": "code",
   "execution_count": 16,
   "id": "ddbbacc8-d4e8-49ed-8140-2ec9fb5e12da",
   "metadata": {},
   "outputs": [],
   "source": [
    "# Function dprime\n",
    "def calculate_dprime(hit_rate, fa_rate):\n",
    "    z_hit_rate = norm.ppf(hit_rate)\n",
    "    z_fa_rate = norm.ppf(fa_rate)\n",
    "    d_prime = z_hit_rate - z_fa_rate\n",
    "    return d_prime"
   ]
  },
  {
   "cell_type": "code",
   "execution_count": 17,
   "id": "db794da8-14de-4425-9af4-506d92b7df08",
   "metadata": {},
   "outputs": [
    {
     "name": "stderr",
     "output_type": "stream",
     "text": [
      "C:\\Users\\britt\\AppData\\Local\\Temp\\ipykernel_3864\\3991319730.py:5: RuntimeWarning: invalid value encountered in scalar subtract\n",
      "  d_prime = z_hit_rate - z_fa_rate\n"
     ]
    }
   ],
   "source": [
    "df['rt'] = df['rt'].astype(str).str.replace(',', '.')\n",
    "\n",
    "df['rt'] = df['rt'].astype(float)    \n",
    "\n",
    "results = []\n",
    "excluded_trials = 0\n",
    "\n",
    "for participant in df['participant'].unique():\n",
    "   \n",
    "    age = df[df['participant'] == participant]['age'].iloc[0]\n",
    "    \n",
    "    for session in df['session'].unique():\n",
    "        subset = df[(df['participant'] == participant) & (df['session'] == session)]\n",
    "\n",
    "        # Outlier reaction time\n",
    "        non_zero_rts = subset['rt'][subset['rt'] > 0]\n",
    "        \n",
    "        if not non_zero_rts.empty:\n",
    "            Q1 = np.percentile(non_zero_rts, 25)\n",
    "            Q3 = np.percentile(non_zero_rts, 75)\n",
    "            IQR = Q3 - Q1\n",
    "            lower_bound = Q1 - 1.5 * IQR\n",
    "            upper_bound = Q3 + 1.5 * IQR\n",
    "            \n",
    "            outlier_mask = (subset['rt'] < lower_bound) | (subset['rt'] > upper_bound)\n",
    "            num_excluded = outlier_mask.sum()\n",
    "            excluded_trials += num_excluded\n",
    "            \n",
    "            valid_subset = subset[~outlier_mask]\n",
    "\n",
    "        # dprime values + correction\n",
    "        for stim in df['stim'].unique():\n",
    "            # Filter für aktuellen Stimulus\n",
    "            stim_subset = subset[subset['stim'] == stim]\n",
    "            \n",
    "            hits = np.sum((stim_subset['target'] == True) & (stim_subset['press'] == True))\n",
    "            misses = np.sum((stim_subset['target'] == True) & (stim_subset['press'] == False))\n",
    "            false_alarms = np.sum((stim_subset['target'] == False) & (stim_subset['press'] == True))\n",
    "            correct_rejections = np.sum((stim_subset['target'] == False) & (stim_subset['press'] == False))\n",
    "            \n",
    "            # log-linear correction\n",
    "            signal_trials = hits + misses\n",
    "            noise_trials = false_alarms + correct_rejections\n",
    "            hit_rate_loglinear = (hits + 0.5) / (signal_trials + 1) if signal_trials > 0 else 0\n",
    "            fa_rate_loglinear = (false_alarms + 0.5) / (noise_trials + 1) if noise_trials > 0 else 0\n",
    "            \n",
    "            d_prime = calculate_dprime(hit_rate_loglinear, fa_rate_loglinear)\n",
    "\n",
    "             # median reaction time\n",
    "            hit_trials = stim_subset[(stim_subset['target'] == True) & (stim_subset['press'] == True)]\n",
    "            non_zero_hit_rts = hit_trials['rt'][hit_trials['rt'] > 0]\n",
    "            median_rt = non_zero_hit_rts.median() if not non_zero_hit_rts.empty else np.nan\n",
    "            \n",
    "            results.append({\n",
    "                'participant': participant,\n",
    "                'session': session,\n",
    "                'stim': stim,\n",
    "                'age': age,\n",
    "                'd_prime': round(d_prime, 4),  \n",
    "                'median_rt': round(median_rt, 4)  \n",
    "            })\n",
    "\n",
    "results_df = pd.DataFrame(results)"
   ]
  },
  {
   "cell_type": "code",
   "execution_count": 18,
   "id": "ded477dd-024f-41b4-b32f-17517465fd47",
   "metadata": {},
   "outputs": [
    {
     "name": "stdout",
     "output_type": "stream",
     "text": [
      "     participant  session   stim  age  d_prime  median_rt\n",
      "0              1        1  theta   28   2.1196     1.0917\n",
      "1              1        1  gamma   28      NaN        NaN\n",
      "2              1        1   sham   28      NaN        NaN\n",
      "3              1        2  theta   28      NaN        NaN\n",
      "4              1        2  gamma   28   2.0844     0.9730\n",
      "..           ...      ...    ...  ...      ...        ...\n",
      "319           36        2  gamma   20      NaN        NaN\n",
      "320           36        2   sham   20   1.6241     0.7013\n",
      "321           36        3  theta   20   1.5587     0.6554\n",
      "322           36        3  gamma   20      NaN        NaN\n",
      "323           36        3   sham   20      NaN        NaN\n",
      "\n",
      "[324 rows x 6 columns]\n"
     ]
    }
   ],
   "source": [
    "print(results_df)"
   ]
  },
  {
   "cell_type": "code",
   "execution_count": 19,
   "id": "62dcef1e-0d4b-4437-a7b7-13888626050c",
   "metadata": {},
   "outputs": [],
   "source": [
    "# Only keep rows where d_prime is not 0 and is not NaN\n",
    "results_df_cleaned = results_df[(results_df['d_prime'] != 0) & (~results_df['d_prime'].isna())]"
   ]
  },
  {
   "cell_type": "code",
   "execution_count": 20,
   "id": "1cc50f98-d4dd-40f5-a596-76172c446a43",
   "metadata": {},
   "outputs": [
    {
     "name": "stdout",
     "output_type": "stream",
     "text": [
      "     participant  session   stim  age  d_prime  median_rt\n",
      "0              1        1  theta   28   2.1196     1.0917\n",
      "4              1        2  gamma   28   2.0844     0.9730\n",
      "8              1        3   sham   28   2.2215     0.9115\n",
      "9              2        1  theta   25   2.2215     0.8953\n",
      "13             2        2  gamma   25   3.1247     0.7077\n",
      "..           ...      ...    ...  ...      ...        ...\n",
      "309           35        2  theta   31   1.8102     1.2610\n",
      "314           35        3   sham   31   2.2215     1.2255\n",
      "316           36        1  gamma   20   1.6334     0.9368\n",
      "320           36        2   sham   20   1.6241     0.7013\n",
      "321           36        3  theta   20   1.5587     0.6554\n",
      "\n",
      "[108 rows x 6 columns]\n"
     ]
    }
   ],
   "source": [
    "print(results_df_cleaned)"
   ]
  },
  {
   "cell_type": "code",
   "execution_count": 21,
   "id": "ae754587-8d48-4e40-b104-61b2bd3b5b25",
   "metadata": {},
   "outputs": [
    {
     "name": "stdout",
     "output_type": "stream",
     "text": [
      "Number of d-prime outlier: 12\n",
      "Outlier DataFrame:\n",
      "     participant  session   stim  age  d_prime  median_rt\n",
      "56             7        1   sham   19   0.4811     0.6693\n",
      "91            11        1  gamma   28   4.5842     0.6074\n",
      "93            11        2  theta   28   3.7212     0.5848\n",
      "98            11        3   sham   28   3.9321     0.5870\n",
      "147           17        2  theta   19   3.2655     0.5768\n",
      "152           17        3   sham   19   3.9321     0.5519\n",
      "212           24        2   sham   20   3.4990     0.7853\n",
      "213           24        3  theta   20   3.8934     0.8407\n",
      "220           25        2  gamma   28   3.2714     0.8277\n",
      "222           25        3  theta   28   3.5834     0.7413\n",
      "249           28        3  theta   24   3.6925     0.7491\n",
      "296           33        3   sham   20   3.4250     0.7352\n",
      "Valid d-prime DataFrame:\n",
      "     participant  session   stim  age  d_prime  median_rt\n",
      "0              1        1  theta   28   2.1196     1.0917\n",
      "1              1        1  gamma   28      NaN        NaN\n",
      "2              1        1   sham   28      NaN        NaN\n",
      "3              1        2  theta   28      NaN        NaN\n",
      "4              1        2  gamma   28   2.0844     0.9730\n",
      "..           ...      ...    ...  ...      ...        ...\n",
      "319           36        2  gamma   20      NaN        NaN\n",
      "320           36        2   sham   20   1.6241     0.7013\n",
      "321           36        3  theta   20   1.5587     0.6554\n",
      "322           36        3  gamma   20      NaN        NaN\n",
      "323           36        3   sham   20      NaN        NaN\n",
      "\n",
      "[312 rows x 6 columns]\n"
     ]
    }
   ],
   "source": [
    "# Outlier for d prime\n",
    "d_prime_values = results_df_cleaned['d_prime']\n",
    "\n",
    "Q1 = np.percentile(d_prime_values, 25)\n",
    "Q3 = np.percentile(d_prime_values, 75)\n",
    "IQR = Q3 - Q1\n",
    "lower_bound = Q1 - 1.5 * IQR\n",
    "upper_bound = Q3 + 1.5 * IQR\n",
    "\n",
    "outlier_mask = (d_prime_values < lower_bound) | (d_prime_values > upper_bound)\n",
    "\n",
    "num_outliers = outlier_mask.sum()\n",
    "\n",
    "outlier_indices = outlier_mask[outlier_mask].index\n",
    "\n",
    "# Outlier DataFrame \n",
    "outliers_df = results_df.loc[outlier_indices]\n",
    "\n",
    "# DataFrame without outliers\n",
    "valid_dprime_df = results_df.loc[~results_df.index.isin(outlier_indices)]\n",
    "\n",
    "print(f\"Number of d-prime outlier: {num_outliers}\")\n",
    "print(\"Outlier DataFrame:\")\n",
    "print(outliers_df)\n",
    "\n",
    "print(\"Valid d-prime DataFrame:\")\n",
    "print(valid_dprime_df)"
   ]
  },
  {
   "cell_type": "code",
   "execution_count": 24,
   "id": "8c8e71a2-9c17-41f3-b6fd-7c4ef6f066a5",
   "metadata": {},
   "outputs": [
    {
     "data": {
      "image/png": "[encoded data removed]",
      "text/plain": [
       "<Figure size 640x480 with 1 Axes>"
      ]
     },
     "metadata": {},
     "output_type": "display_data"
    }
   ],
   "source": [
    "sns.boxplot(x=d_prime_values)\n",
    "plt.title('Boxplot dprime outlier')\n",
    "plt.xlabel('d-prime')\n",
    "plt.show()"
   ]
  },
  {
   "cell_type": "code",
   "execution_count": 25,
   "id": "8aed9036-b39c-4532-a4fd-d5319586a8b2",
   "metadata": {},
   "outputs": [],
   "source": [
    "results_df_cleaned = results_df_cleaned[(results_df_cleaned['d_prime'] != 0) & (~results_df_cleaned['d_prime'].isna())]"
   ]
  },
  {
   "cell_type": "code",
   "execution_count": 27,
   "id": "ec686fb6-832a-4e52-aff1-2f69c6f10070",
   "metadata": {},
   "outputs": [
    {
     "name": "stdout",
     "output_type": "stream",
     "text": [
      "     participant  session   stim  age  d_prime  median_rt\n",
      "0              1        1  theta   28   2.1196     1.0917\n",
      "4              1        2  gamma   28   2.0844     0.9730\n",
      "8              1        3   sham   28   2.2215     0.9115\n",
      "9              2        1  theta   25   2.2215     0.8953\n",
      "13             2        2  gamma   25   3.1247     0.7077\n",
      "..           ...      ...    ...  ...      ...        ...\n",
      "309           35        2  theta   31   1.8102     1.2610\n",
      "314           35        3   sham   31   2.2215     1.2255\n",
      "316           36        1  gamma   20   1.6334     0.9368\n",
      "320           36        2   sham   20   1.6241     0.7013\n",
      "321           36        3  theta   20   1.5587     0.6554\n",
      "\n",
      "[108 rows x 6 columns]\n"
     ]
    }
   ],
   "source": [
    "print(results_df_cleaned)"
   ]
  },
  {
   "cell_type": "markdown",
   "id": "391395a9-ba6b-4675-af37-e09328badf2e",
   "metadata": {},
   "source": [
    "## Exclude dprime Outlier"
   ]
  },
  {
   "cell_type": "code",
   "execution_count": 28,
   "id": "71473f94-5a88-49c6-a7c6-6d07efd91908",
   "metadata": {},
   "outputs": [
    {
     "name": "stdout",
     "output_type": "stream",
     "text": [
      "     participant  session   stim  age  d_prime  median_rt\n",
      "0              1        1  theta   28   2.1196     1.0917\n",
      "4              1        2  gamma   28   2.0844     0.9730\n",
      "8              1        3   sham   28   2.2215     0.9115\n",
      "9              2        1  theta   25   2.2215     0.8953\n",
      "13             2        2  gamma   25   3.1247     0.7077\n",
      "..           ...      ...    ...  ...      ...        ...\n",
      "309           35        2  theta   31   1.8102     1.2610\n",
      "314           35        3   sham   31   2.2215     1.2255\n",
      "316           36        1  gamma   20   1.6334     0.9368\n",
      "320           36        2   sham   20   1.6241     0.7013\n",
      "321           36        3  theta   20   1.5587     0.6554\n",
      "\n",
      "[108 rows x 6 columns]\n"
     ]
    }
   ],
   "source": [
    "exclusion_combinations = [\n",
    "    (participant, session) \n",
    "    for participant, session in outliers_df[['participant', 'session']].itertuples(index=False, name=None)\n",
    "]\n",
    "\n",
    "# Loop over the exclusion combinations and set only the d_prime for those combinations to NaN\n",
    "for participant, session in exclusion_combinations:\n",
    "    results_df_cleaned.loc[\n",
    "        (results_df_cleaned['participant'] == participant) & \n",
    "        (results_df_cleaned['session'] == session),\n",
    "        'd_prime'\n",
    "    ] = np.nan\n",
    "\n",
    "print(results_df_cleaned)"
   ]
  },
  {
   "cell_type": "code",
   "execution_count": 29,
   "id": "cfb1e847-4d17-4dcf-8049-c143fdf3e8e0",
   "metadata": {},
   "outputs": [],
   "source": [
    "# Save DataFrame in CSV-File for further analysis in R\n",
    "results_df_cleaned.to_csv('Final_DataSet.csv', index=False)"
   ]
  },
  {
   "cell_type": "code",
   "execution_count": 30,
   "id": "3dcc2fb0-79f1-46e3-af42-8997fba82db3",
   "metadata": {},
   "outputs": [],
   "source": [
    "results_df_cleaned.to_csv(r\"C:\\Users\\britt\\Desktop\\Final_DataSet.csv\") "
   ]
  }
 ],
 "metadata": {
  "kernelspec": {
   "display_name": "Python 3 (ipykernel)",
   "language": "python",
   "name": "python3"
  },
  "language_info": {
   "codemirror_mode": {
    "name": "ipython",
    "version": 3
   },
   "file_extension": ".py",
   "mimetype": "text/x-python",
   "name": "python",
   "nbconvert_exporter": "python",
   "pygments_lexer": "ipython3",
   "version": "3.11.7"
  }
 },
 "nbformat": 4,
 "nbformat_minor": 5
}
